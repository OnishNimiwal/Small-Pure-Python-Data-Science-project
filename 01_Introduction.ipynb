{
 "cells": [
  {
   "cell_type": "code",
   "execution_count": 1,
   "id": "47166da4-54d7-4106-8933-b9ab041b89e9",
   "metadata": {},
   "outputs": [],
   "source": [
    "import json"
   ]
  },
  {
   "cell_type": "code",
   "execution_count": 2,
   "id": "204c978e-3c2c-4ff7-80d0-e1da8b6a0843",
   "metadata": {},
   "outputs": [],
   "source": [
    "# This function will load the json data\n",
    "def loaddata(filename):\n",
    "    with open(filename,\"r\")as f:\n",
    "        data=json.load(f)\n",
    "    return data"
   ]
  },
  {
   "cell_type": "code",
   "execution_count": 3,
   "id": "4fcdc7bf-9a12-450b-a871-2a77fe43db61",
   "metadata": {},
   "outputs": [],
   "source": [
    "data=loaddata(\"data.json\")"
   ]
  },
  {
   "cell_type": "code",
   "execution_count": 4,
   "id": "94d301fb-296c-4fd8-ba48-964011fc8160",
   "metadata": {},
   "outputs": [
    {
     "data": {
      "text/plain": [
       "{'users': [{'id': 1, 'name': 'Amit', 'friends': [2, 3], 'liked_pages': [101]},\n",
       "  {'id': 2, 'name': 'Priya', 'friends': [1, 4], 'liked_pages': [102]},\n",
       "  {'id': 3, 'name': 'Rahul', 'friends': [1], 'liked_pages': [101, 103]},\n",
       "  {'id': 4, 'name': 'Sara', 'friends': [2], 'liked_pages': [104]}],\n",
       " 'pages': [{'id': 101, 'name': 'Python Developers'},\n",
       "  {'id': 102, 'name': 'Data Science Enthusiasts'},\n",
       "  {'id': 103, 'name': 'AI & ML Community'},\n",
       "  {'id': 104, 'name': 'Web Dev Hub'}]}"
      ]
     },
     "execution_count": 4,
     "metadata": {},
     "output_type": "execute_result"
    }
   ],
   "source": [
    "data"
   ]
  },
  {
   "cell_type": "code",
   "execution_count": 5,
   "id": "8b7a8508-6b36-4744-8840-7d5e425e2bbc",
   "metadata": {},
   "outputs": [
    {
     "data": {
      "text/plain": [
       "dict"
      ]
     },
     "execution_count": 5,
     "metadata": {},
     "output_type": "execute_result"
    }
   ],
   "source": [
    "type(data)"
   ]
  },
  {
   "cell_type": "code",
   "execution_count": 16,
   "id": "d1313d42-c546-483e-b27b-8305e5f96633",
   "metadata": {},
   "outputs": [],
   "source": [
    "def display_information(data):\n",
    "    print(\"The user and their connection information is:\\n\")\n",
    "    for users in data['users']:\n",
    "        print(f\"{users['name']} has id {users['id']}, is friends with {users['friends']} and liked pages are {users['liked_pages']}\")\n",
    "    print(\"\\nThe liked pages information is:\\n\")\n",
    "    for users in data['pages']:\n",
    "        print(f\"{users['id']}: {users['name']}\")        "
   ]
  },
  {
   "cell_type": "code",
   "execution_count": 17,
   "id": "a761f71d-0f7b-4926-a638-f0881027047d",
   "metadata": {},
   "outputs": [
    {
     "name": "stdout",
     "output_type": "stream",
     "text": [
      "The user and their connection information is:\n",
      "\n",
      "Amit has id 1, is friends with [2, 3] and liked pages are [101]\n",
      "Priya has id 2, is friends with [1, 4] and liked pages are [102]\n",
      "Rahul has id 3, is friends with [1] and liked pages are [101, 103]\n",
      "Sara has id 4, is friends with [2] and liked pages are [104]\n",
      "\n",
      "The liked pages information is:\n",
      "\n",
      "101: Python Developers\n",
      "102: Data Science Enthusiasts\n",
      "103: AI & ML Community\n",
      "104: Web Dev Hub\n"
     ]
    }
   ],
   "source": [
    "display_information(data)"
   ]
  },
  {
   "cell_type": "code",
   "execution_count": null,
   "id": "8ad91b7d-858f-410b-be9d-6ea8351fce91",
   "metadata": {},
   "outputs": [],
   "source": []
  }
 ],
 "metadata": {
  "kernelspec": {
   "display_name": "Python [conda env:base] *",
   "language": "python",
   "name": "conda-base-py"
  },
  "language_info": {
   "codemirror_mode": {
    "name": "ipython",
    "version": 3
   },
   "file_extension": ".py",
   "mimetype": "text/x-python",
   "name": "python",
   "nbconvert_exporter": "python",
   "pygments_lexer": "ipython3",
   "version": "3.13.5"
  }
 },
 "nbformat": 4,
 "nbformat_minor": 5
}
