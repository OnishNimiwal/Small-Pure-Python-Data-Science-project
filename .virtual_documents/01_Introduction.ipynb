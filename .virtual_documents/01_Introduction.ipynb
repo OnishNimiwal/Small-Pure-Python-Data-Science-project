import json


# This function will load the json data
def loaddata(filename):
    with open(filename,"r")as f:
        data=json.load(f)
    return data


data=loaddata("data.json")


data


type(data)


def display_information(data):
    print("The user and their connection information is:\n")
    for users in data['users']:
        print(f"{users['name']} has id {users['id']}, is friends with {users['friends']} and liked pages are {users['liked_pages']}")
    print("\nThe liked pages information is:\n")
    for users in data['pages']:
        print(f"{users['id']}: {users['name']}")        


display_information(data)



