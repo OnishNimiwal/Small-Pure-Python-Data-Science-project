{
 "cells": [
  {
   "cell_type": "code",
   "execution_count": 13,
   "id": "3dff8ea3-a105-422c-8eb1-5764e37f33aa",
   "metadata": {},
   "outputs": [],
   "source": [
    "#Load data\n",
    "import json"
   ]
  },
  {
   "cell_type": "code",
   "execution_count": 18,
   "id": "2aac5242-2976-42df-8b67-2871ec9a2003",
   "metadata": {},
   "outputs": [],
   "source": [
    "def load_data(filename):\n",
    "    with open(filename, \"r\") as file:\n",
    "        return json.load(file)"
   ]
  },
  {
   "cell_type": "code",
   "execution_count": 19,
   "id": "391fae1f-7128-411b-9f6d-dc48c5cded8b",
   "metadata": {},
   "outputs": [],
   "source": [
    "data=load_data(\"massive_data.json\")"
   ]
  },
  {
   "cell_type": "code",
   "execution_count": 20,
   "id": "8a47128c-1034-4c14-be14-3ee3c2833eca",
   "metadata": {},
   "outputs": [],
   "source": [
    "# Function which find people you may know\n",
    "def people_you_may_know(user_id,data):\n",
    "    user_friends = {}\n",
    "    for user in data['users']:\n",
    "        user_friends[user['id']]=set(user['friends'])\n",
    "    if user_id not in user_friends:\n",
    "        return[]\n",
    "    direct_friends= user_friends[user_id]\n",
    "    suggestion = {}\n",
    "    for friend in direct_friends:\n",
    "        for mutual in user_friends[friend]:\n",
    "            if mutual != user_id and mutual not in direct_friends:\n",
    "                suggestion[mutual]=suggestion.get(mutual,0)+1\n",
    "    sorted_suggestion=sorted(suggestion.items(),key=lambda x:x[1],reverse=True)\n",
    "    return [user_id for user_id,mutual_friends in sorted_suggestion]\n",
    "                "
   ]
  },
  {
   "cell_type": "code",
   "execution_count": 21,
   "id": "a08e7740-3f54-4048-ad9c-fdbbd510a1c6",
   "metadata": {},
   "outputs": [
    {
     "name": "stdout",
     "output_type": "stream",
     "text": [
      "[7, 8, 9, 10, 11, 12]\n"
     ]
    }
   ],
   "source": [
    "user_id=1\n",
    "recc=people_you_may_know(user_id,data)\n",
    "print(recc)"
   ]
  },
  {
   "cell_type": "code",
   "execution_count": null,
   "id": "95c87cf5-85d4-4446-8704-f2e5ad8ba303",
   "metadata": {},
   "outputs": [],
   "source": []
  }
 ],
 "metadata": {
  "kernelspec": {
   "display_name": "Python [conda env:base] *",
   "language": "python",
   "name": "conda-base-py"
  },
  "language_info": {
   "codemirror_mode": {
    "name": "ipython",
    "version": 3
   },
   "file_extension": ".py",
   "mimetype": "text/x-python",
   "name": "python",
   "nbconvert_exporter": "python",
   "pygments_lexer": "ipython3",
   "version": "3.13.5"
  }
 },
 "nbformat": 4,
 "nbformat_minor": 5
}
