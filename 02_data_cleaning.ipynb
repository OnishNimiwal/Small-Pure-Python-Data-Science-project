{
 "cells": [
  {
   "cell_type": "code",
   "execution_count": 2,
   "id": "c4a1d5c8-fdde-44af-9c65-534d052c1278",
   "metadata": {},
   "outputs": [],
   "source": [
    "# Step 1 load the uncleaned data\n",
    "import json"
   ]
  },
  {
   "cell_type": "code",
   "execution_count": 6,
   "id": "e24f797b-70c0-440e-a89d-4f1d090615c6",
   "metadata": {},
   "outputs": [],
   "source": [
    "def load_data(filename):\n",
    "    with open(filename,\"r\") as f:\n",
    "        data=json.load(f)\n",
    "    return data"
   ]
  },
  {
   "cell_type": "code",
   "execution_count": 7,
   "id": "4bcc429d-7ce6-49c9-9227-b8a6fd004ab1",
   "metadata": {},
   "outputs": [],
   "source": [
    "data=load_data(\"data2.json\")"
   ]
  },
  {
   "cell_type": "code",
   "execution_count": 8,
   "id": "854cce2d-3b3d-4cd0-a08a-8f23f8dcaa4d",
   "metadata": {},
   "outputs": [
    {
     "data": {
      "text/plain": [
       "{'users': [{'id': 1, 'name': 'Amit', 'friends': [2, 3], 'liked_pages': [101]},\n",
       "  {'id': 2, 'name': 'Priya', 'friends': [1, 4], 'liked_pages': [102]},\n",
       "  {'id': 3, 'name': '', 'friends': [1], 'liked_pages': [101, 103]},\n",
       "  {'id': 4, 'name': 'Sara', 'friends': [2, 2], 'liked_pages': [104]},\n",
       "  {'id': 5, 'name': 'Amit', 'friends': [], 'liked_pages': []}],\n",
       " 'pages': [{'id': 101, 'name': 'Python Developers'},\n",
       "  {'id': 102, 'name': 'Data Science Enthusiasts'},\n",
       "  {'id': 103, 'name': 'AI & ML Community'},\n",
       "  {'id': 104, 'name': 'Web Dev Hub'},\n",
       "  {'id': 104, 'name': 'Web Development'}]}"
      ]
     },
     "execution_count": 8,
     "metadata": {},
     "output_type": "execute_result"
    }
   ],
   "source": [
    "data"
   ]
  },
  {
   "cell_type": "code",
   "execution_count": 24,
   "id": "227f6fed-4cf9-4c39-b6a9-cc2e1bd2e554",
   "metadata": {},
   "outputs": [],
   "source": [
    "# Function which clean the data\n",
    "def clean_data(data):\n",
    "    #Remove the data which has no username\n",
    "    data[\"users\"]=[user for user in data[\"users\"] if user[\"name\"].strip()]\n",
    "\n",
    "    #Remove the duplicate friends\n",
    "    for user in data[\"users\"]:\n",
    "        user['friends']=list(set(user['friends']))\n",
    "\n",
    "    #Remove the inactive users\n",
    "    data['users']=[user for user in data['users'] if user['friends'] or user['liked_pages']]\n",
    "\n",
    "    #Remove the duplicate pages\n",
    "    unique_pages = {}\n",
    "    for page in data['pages']:\n",
    "        unique_pages[page['id']]=page\n",
    "    data['pages']=list(unique_pages.values())\n",
    "        \n",
    "    return data"
   ]
  },
  {
   "cell_type": "code",
   "execution_count": 25,
   "id": "d2858e2d-1ea6-4d92-9c54-09b848db4ffb",
   "metadata": {},
   "outputs": [
    {
     "name": "stdout",
     "output_type": "stream",
     "text": [
      "The data has been cleaned and dumped successfully\n"
     ]
    }
   ],
   "source": [
    "# Dumping the clean data\n",
    "data=clean_data(data)\n",
    "json.dump(data,open(\"cleaned_data.json\",\"w\"),indent =4 )\n",
    "print(\"The data has been cleaned and dumped successfully\")"
   ]
  },
  {
   "cell_type": "code",
   "execution_count": null,
   "id": "b01621f6-d96a-4fb4-bf58-e802df0db4e3",
   "metadata": {},
   "outputs": [],
   "source": []
  },
  {
   "cell_type": "code",
   "execution_count": null,
   "id": "7298f84f-095d-4f11-b951-c1939a9019ad",
   "metadata": {},
   "outputs": [],
   "source": []
  }
 ],
 "metadata": {
  "kernelspec": {
   "display_name": "Python [conda env:base] *",
   "language": "python",
   "name": "conda-base-py"
  },
  "language_info": {
   "codemirror_mode": {
    "name": "ipython",
    "version": 3
   },
   "file_extension": ".py",
   "mimetype": "text/x-python",
   "name": "python",
   "nbconvert_exporter": "python",
   "pygments_lexer": "ipython3",
   "version": "3.13.5"
  }
 },
 "nbformat": 4,
 "nbformat_minor": 5
}
